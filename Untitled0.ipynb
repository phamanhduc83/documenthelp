{
  "nbformat": 4,
  "nbformat_minor": 0,
  "metadata": {
    "colab": {
      "provenance": [],
      "authorship_tag": "ABX9TyPhhB1+CWlgrvxq/8fUecRf",
      "include_colab_link": true
    },
    "kernelspec": {
      "name": "python3",
      "display_name": "Python 3"
    },
    "language_info": {
      "name": "python"
    }
  },
  "cells": [
    {
      "cell_type": "markdown",
      "metadata": {
        "id": "view-in-github",
        "colab_type": "text"
      },
      "source": [
        "<a href=\"https://colab.research.google.com/github/phamanhduc83/documenthelp/blob/main/Untitled0.ipynb\" target=\"_parent\"><img src=\"https://colab.research.google.com/assets/colab-badge.svg\" alt=\"Open In Colab\"/></a>"
      ]
    },
    {
      "cell_type": "code",
      "execution_count": null,
      "metadata": {
        "colab": {
          "base_uri": "https://localhost:8080/"
        },
        "id": "JpZ3bvRIQxEc",
        "outputId": "e66f321d-3f16-483d-ce4f-8bfdb916a5ac"
      },
      "outputs": [
        {
          "output_type": "stream",
          "name": "stdout",
          "text": [
            "Mounted at /content/drive\n"
          ]
        }
      ],
      "source": [
        "from google.colab import drive\n",
        "drive.mount('/content/drive')\n"
      ]
    },
    {
      "cell_type": "code",
      "source": [
        "import os\n",
        "import requests\n",
        "import shutil\n",
        "\n",
        "# URL của tệp cần tải\n",
        "file_url = 'https://s3.amazonaws.com/snapeda/datasheet/0001271122_Schurter.pdf'\n",
        "\n",
        "# Thư mục trên Google Drive\n",
        "drive_folder = '/content/drive/MyDrive/anhduc'\n",
        "\n",
        "# Tên tệp sau khi tải về\n",
        "file_name = 'ten_file_moi'\n",
        "\n",
        "# Đường dẫn đầy đủ đến tệp trên Google Drive\n",
        "full_path = os.path.join(drive_folder, file_name)\n",
        "\n",
        "# Tải tệp về thư mục tạm thời trên Colab\n",
        "temp_folder = '/content/temp'\n",
        "os.makedirs(temp_folder, exist_ok=True)\n",
        "temp_file_path = os.path.join(temp_folder, file_name)\n",
        "\n",
        "# Download file từ URL\n",
        "response = requests.get(file_url)\n",
        "with open(temp_file_path, 'wb') as file:\n",
        "    file.write(response.content)\n",
        "\n",
        "# Copy tệp vào thư mục trên Google Drive\n",
        "os.makedirs(drive_folder, exist_ok=True)\n",
        "shutil.copy(temp_file_path, full_path)\n",
        "\n",
        "# Xóa thư mục tạm thời\n",
        "shutil.rmtree(temp_folder)\n",
        "\n",
        "print(f'Tệp đã được tải về và lưu vào thư mục {drive_folder}.')\n"
      ],
      "metadata": {
        "colab": {
          "base_uri": "https://localhost:8080/"
        },
        "id": "3lHkjaPwQ2MI",
        "outputId": "302f6d11-a6f1-4a45-9047-14504973c3f3"
      },
      "execution_count": null,
      "outputs": [
        {
          "output_type": "stream",
          "name": "stdout",
          "text": [
            "Tệp đã được tải về và lưu vào thư mục /content/drive/MyDrive/anhduc.\n"
          ]
        }
      ]
    }
  ]
}